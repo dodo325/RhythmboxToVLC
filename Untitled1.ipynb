{
 "cells": [
  {
   "cell_type": "code",
   "execution_count": 42,
   "metadata": {},
   "outputs": [],
   "source": [
    "from xml.dom import minidom\n",
    "from shutil import copy2"
   ]
  },
  {
   "cell_type": "code",
   "execution_count": 43,
   "metadata": {},
   "outputs": [],
   "source": [
    "def path_fillter(path):\n",
    "    path = path.replace('file://', '')\n",
    "    path = unquote(path)\n",
    "    return path"
   ]
  },
  {
   "cell_type": "code",
   "execution_count": 58,
   "metadata": {},
   "outputs": [
    {
     "name": "stdout",
     "output_type": "stream",
     "text": [
      "24\n"
     ]
    }
   ],
   "source": [
    "xmldoc = minidom.parse('out/Start!.xspf')\n",
    "itemlist = xmldoc.getElementsByTagName('location')\n",
    "print(len(itemlist))"
   ]
  },
  {
   "cell_type": "code",
   "execution_count": 59,
   "metadata": {},
   "outputs": [],
   "source": [
    "if not os.path.exists('music'):\n",
    "    os.makedirs('music')"
   ]
  },
  {
   "cell_type": "code",
   "execution_count": 60,
   "metadata": {},
   "outputs": [
    {
     "name": "stdout",
     "output_type": "stream",
     "text": [
      "music/08. Zen Zen Zense (Movie Ver.).mp3\n",
      "music/Imagine Dragons - Zero.mp3\n",
      "music/imagine-dragons-natural.mp3\n",
      "music/Imagine Dragons_Believer_2000251783_456240570.mp3\n",
      "music/Arctic Monkeys – Are you mine.mp3\n",
      "music/106055096_438943093.mp3\n",
      "music/Coldplay – Up & Up.mp3\n",
      "music/03 - Centuries.mp3\n",
      "music/green-day-still-breathing.mp3\n",
      "music/106055096_398888416.mp3\n",
      "music/No Game No Life - 『THERE IS A REASON』.mp3\n",
      "music/LiSA - ADAMAS.mp3\n",
      "music/01 - swordland.mp3\n",
      "music/106055096_430426358.mp3\n",
      "music/elisa-god-only-knows-kami-nomi-zo-shiru-sekai-op_(mp3CC.com).mp3\n",
      "music/The Script – Hall Of Fame (feat Will.I.Am).mp3\n",
      "music/Again - Yui [Fullmetal Alchemist OP].mp3\n",
      "music/Fatboy Slim — Praise You.mp3\n",
      "music/Fullmetal Alchemist Brotherhood Opening 1 (Again) Lyrics.mp3\n",
      "music/Final Fantasy XV OST - Veiled in Black.mp3\n",
      "music/Final Fantasy XV OST - Stand Your Ground.mp3\n",
      "music/Hologram - Full Metal Alchemist Brotherhood (Opening 2) [Lyrics and sub-english].mp3\n",
      "music/SID_-_Rain(promusic.me).mp3\n",
      "music/SID_-_Uso(promusic.me).mp3\n"
     ]
    }
   ],
   "source": [
    "for i in itemlist:\n",
    "    path = i.firstChild.data\n",
    "    path = path_fillter(path)\n",
    "    print(copy2(path, 'music/'))"
   ]
  },
  {
   "cell_type": "code",
   "execution_count": null,
   "metadata": {},
   "outputs": [],
   "source": []
  }
 ],
 "metadata": {
  "kernelspec": {
   "display_name": "Python 3",
   "language": "python",
   "name": "python3"
  },
  "language_info": {
   "codemirror_mode": {
    "name": "ipython",
    "version": 3
   },
   "file_extension": ".py",
   "mimetype": "text/x-python",
   "name": "python",
   "nbconvert_exporter": "python",
   "pygments_lexer": "ipython3",
   "version": "3.7.2"
  }
 },
 "nbformat": 4,
 "nbformat_minor": 2
}
