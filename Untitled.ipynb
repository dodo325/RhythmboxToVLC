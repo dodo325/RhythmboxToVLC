{
 "cells": [
  {
   "cell_type": "code",
   "execution_count": 129,
   "metadata": {},
   "outputs": [],
   "source": [
    "import xml.etree.ElementTree as ET\n",
    "import os\n",
    "from  urllib.parse import unquote\n",
    "import xspf\n",
    "from mp3_tagger import MP3File, VERSION_1, VERSION_2, VERSION_BOTH"
   ]
  },
  {
   "cell_type": "code",
   "execution_count": 1,
   "metadata": {},
   "outputs": [],
   "source": [
    "def path_fillter(path):\n",
    "    path = path.replace('file://', '')\n",
    "    path = unquote(path)\n",
    "    return path\n",
    "\n",
    "def addTrack(location, playlist):\n",
    "    location_r = path_fillter(location)\n",
    "    try:\n",
    "        \n",
    "        mp3 = MP3File(location_r)\n",
    "        tags = mp3.get_tags()\n",
    "        tr = xspf.Track()\n",
    "        tr.location = location\n",
    "\n",
    "        if 'song' in tags['ID3TagV2'].keys():\n",
    "            tr.title = tags['ID3TagV2']['song']\n",
    "        if 'artist' in tags['ID3TagV2'].keys():\n",
    "            tr.creator = tags['ID3TagV2']['artist']\n",
    "        if 'album' in tags['ID3TagV2'].keys():\n",
    "            tr.album = tags['ID3TagV2']['album']\n",
    "        playlist.add_track(tr)\n",
    "    except Exception as e:\n",
    "        print('FileNotFoundError: ', location_r)\n",
    "    \n",
    "    return playlist"
   ]
  },
  {
   "cell_type": "code",
   "execution_count": 1,
   "metadata": {},
   "outputs": [],
   "source": [
    "##"
   ]
  },
  {
   "cell_type": "code",
   "execution_count": 2,
   "metadata": {},
   "outputs": [],
   "source": [
    "tree = ET.parse('/home/dodo/.local/share/rhythmbox/playlists.xml')"
   ]
  },
  {
   "cell_type": "code",
   "execution_count": 3,
   "metadata": {},
   "outputs": [],
   "source": [
    "root = tree.getroot()\n",
    "playlists = dict()"
   ]
  },
  {
   "cell_type": "code",
   "execution_count": 4,
   "metadata": {},
   "outputs": [],
   "source": [
    "for child in root:\n",
    "    if child.attrib['type'] == 'static':\n",
    "        playlists[child.attrib['name']] = child"
   ]
  },
  {
   "cell_type": "code",
   "execution_count": 120,
   "metadata": {},
   "outputs": [
    {
     "name": "stdout",
     "output_type": "stream",
     "text": [
      "playlist:  Analog\n",
      "FileNotFoundError:  file:///media/dodo/4821EA6946C7205A/Music/music/Imagine%20Dragons%20%E2%80%93%20Gold.mp3\n",
      "FileNotFoundError:  file:///media/dodo/4821EA6946C7205A/Music/music/Imagine%20Dragons%20%E2%80%93%20I%20Bet%20My%20Life.mp3\n",
      "FileNotFoundError:  file:///media/dodo/4821EA6946C7205A/Music/music/Green%20Day%20%E2%80%93%20Say%20Goodbye.mp3\n",
      "playlist:  Pop\n",
      "FileNotFoundError:  file:///media/dodo/4821EA6946C7205A/Music/music/Maroon%205_My%20Lucky%20Strike%20_42842558_359922415.mp3\n",
      "FileNotFoundError:  file:///media/dodo/4821EA6946C7205A/Music/Fall%20Out%20Boy/2013%20-%20Alone%20Together%20%5Bsingle%5D/01%20-%20Alone%20Together.mp3\n",
      "FileNotFoundError:  file:///media/dodo/4821EA6946C7205A/Music/music/Nightcore_Say_Goodbye_(romneyready.me).mp3\n",
      "FileNotFoundError:  file:///media/dodo/4821EA6946C7205A/Music/music/106055096_370908643.mp3\n",
      "FileNotFoundError:  file:///media/dodo/4821EA6946C7205A/Music/music/Ofenbach_Be%20Mine%20(Amice%20Remix)_-97427474_456239101.mp3\n",
      "playlist:  Relax\n",
      "FileNotFoundError:  file:///media/dodo/4821EA6946C7205A/Music/the-piano-guys-bring-him-home-les-miserables_(mp3CC.com).mp3\n",
      "FileNotFoundError:  file:///media/dodo/4821EA6946C7205A/Music/music/106055096_425206859.mp3\n",
      "playlist:  Rhythm\n",
      "FileNotFoundError:  file:///media/dodo/4821EA6946C7205A/Music/music/Maroon%205_My%20Lucky%20Strike%20_42842558_359922415.mp3\n",
      "FileNotFoundError:  file:///media/dodo/4821EA6946C7205A/Music/music/Caravan%20Palace_%20Lone%20Digger_43364112_456239099.mp3\n",
      "FileNotFoundError:  file:///media/dodo/4821EA6946C7205A/Music/Fall%20Out%20Boy/2013%20-%20Alone%20Together%20%5Bsingle%5D/01%20-%20Alone%20Together.mp3\n",
      "FileNotFoundError:  file:///media/dodo/4821EA6946C7205A/Music/music/Green%20Day%20%E2%80%93%20Say%20Goodbye.mp3\n",
      "FileNotFoundError:  file:///media/dodo/4821EA6946C7205A/Music/music/106055096_370908643.mp3\n",
      "FileNotFoundError:  file:///media/dodo/4821EA6946C7205A/Music/(01)%20Hero%20-%20Skillet.flac\n",
      "FileNotFoundError:  file:///media/dodo/4821EA6946C7205A/Music/(02)%20Monster%20-%20Skillet.flac\n",
      "FileNotFoundError:  file:///media/dodo/4821EA6946C7205A/Music/(08)%20Believe%20-%20Skillet.flac\n",
      "FileNotFoundError:  file:///media/dodo/4821EA6946C7205A/Music/music/Eminem%20%E2%80%93%20Monster%20(feat.%20Rihana).mp3\n",
      "FileNotFoundError:  file:///media/dodo/4821EA6946C7205A/Music/music/Eminem%20%E2%80%93%20'Till%20I%20Collapse%20(ft.%20Nate%20Dogg).mp3\n",
      "FileNotFoundError:  file:///media/dodo/4821EA6946C7205A/Music/music/Nightcore_Say_Goodbye_(romneyready.me).mp3\n",
      "FileNotFoundError:  file:///media/dodo/4821EA6946C7205A/Music/music/Ofenbach_Be%20Mine%20(Amice%20Remix)_-97427474_456239101.mp3\n",
      "playlist:  Start!\n",
      "FileNotFoundError:  file:///media/dodo/4821EA6946C7205A/Music/music/CHiCO_with_HoneyWorks_-_Ai_no_Scenario_Magic_Kaito_1412_OP_2_(mp3.pm).mp3\n",
      "playlist:  Ррр\n"
     ]
    }
   ],
   "source": [
    "xspf_playlists = dict()\n",
    "for title, playlist in playlists.items():\n",
    "    x = xspf.Xspf()\n",
    "    x.title = title\n",
    "    \n",
    "    print(\"playlist: \", title)\n",
    "    \n",
    "    for location in playlist:\n",
    "        x = addTrack(location.text, x)\n",
    "    xspf_playlists[title] = x"
   ]
  },
  {
   "cell_type": "code",
   "execution_count": 165,
   "metadata": {},
   "outputs": [],
   "source": [
    "\n",
    "if not os.path.exists('out'):\n",
    "    os.makedirs('out')\n",
    "\n",
    "for tltie, playlist in xspf_playlists.items():\n",
    "    file = open('out/'+tltie+'.xspf', 'wb')\n",
    "    file.write(playlist.toXml().replace(b'\\x00',b''))\n",
    "    file.close()"
   ]
  },
  {
   "cell_type": "code",
   "execution_count": null,
   "metadata": {},
   "outputs": [],
   "source": []
  }
 ],
 "metadata": {
  "kernelspec": {
   "display_name": "Python 3",
   "language": "python",
   "name": "python3"
  },
  "language_info": {
   "codemirror_mode": {
    "name": "ipython",
    "version": 3
   },
   "file_extension": ".py",
   "mimetype": "text/x-python",
   "name": "python",
   "nbconvert_exporter": "python",
   "pygments_lexer": "ipython3",
   "version": "3.7.2"
  }
 },
 "nbformat": 4,
 "nbformat_minor": 2
}
